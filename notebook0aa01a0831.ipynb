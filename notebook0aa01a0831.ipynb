{
 "cells": [
  {
   "cell_type": "code",
   "execution_count": 1,
   "id": "global-outreach",
   "metadata": {
    "_cell_guid": "b1076dfc-b9ad-4769-8c92-a6c4dae69d19",
    "_uuid": "8f2839f25d086af736a60e9eeb907d3b93b6e0e5",
    "execution": {
     "iopub.execute_input": "2021-06-03T18:50:14.254532Z",
     "iopub.status.busy": "2021-06-03T18:50:14.252348Z",
     "iopub.status.idle": "2021-06-03T18:50:14.260659Z",
     "shell.execute_reply": "2021-06-03T18:50:14.260044Z",
     "shell.execute_reply.started": "2021-06-03T18:40:37.339527Z"
    },
    "papermill": {
     "duration": 0.031183,
     "end_time": "2021-06-03T18:50:14.260825",
     "exception": false,
     "start_time": "2021-06-03T18:50:14.229642",
     "status": "completed"
    },
    "tags": []
   },
   "outputs": [
    {
     "name": "stdout",
     "output_type": "stream",
     "text": [
      "/kaggle/input/titanic/train.csv\n",
      "/kaggle/input/titanic/test.csv\n",
      "/kaggle/input/titanic/gender_submission.csv\n"
     ]
    }
   ],
   "source": [
    "# This Python 3 environment comes with many helpful analytics libraries installed\n",
    "# It is defined by the kaggle/python Docker image: https://github.com/kaggle/docker-python\n",
    "# For example, here's several helpful packages to load\n",
    "\n",
    "import numpy as np # linear algebra\n",
    "import pandas as pd # data processing, CSV file I/O (e.g. pd.read_csv)\n",
    "\n",
    "# Input data files are available in the read-only \"../input/\" directory\n",
    "# For example, running this (by clicking run or pressing Shift+Enter) will list all files under the input directory\n",
    "\n",
    "import os\n",
    "for dirname, _, filenames in os.walk('/kaggle/input'):\n",
    "    for filename in filenames:\n",
    "        print(os.path.join(dirname, filename))\n",
    "\n",
    "# You can write up to 20GB to the current directory (/kaggle/working/) that gets preserved as output when you create a version using \"Save & Run All\" \n",
    "# You can also write temporary files to /kaggle/temp/, but they won't be saved outside of the current session"
   ]
  },
  {
   "cell_type": "markdown",
   "id": "reported-trace",
   "metadata": {
    "papermill": {
     "duration": 0.013037,
     "end_time": "2021-06-03T18:50:14.287870",
     "exception": false,
     "start_time": "2021-06-03T18:50:14.274833",
     "status": "completed"
    },
    "tags": []
   },
   "source": [
    "First we load the train data we will use to train our model"
   ]
  },
  {
   "cell_type": "code",
   "execution_count": 2,
   "id": "cellular-incidence",
   "metadata": {
    "execution": {
     "iopub.execute_input": "2021-06-03T18:50:14.317228Z",
     "iopub.status.busy": "2021-06-03T18:50:14.316642Z",
     "iopub.status.idle": "2021-06-03T18:50:14.335626Z",
     "shell.execute_reply": "2021-06-03T18:50:14.334971Z",
     "shell.execute_reply.started": "2021-06-03T18:40:37.357642Z"
    },
    "papermill": {
     "duration": 0.034631,
     "end_time": "2021-06-03T18:50:14.335782",
     "exception": false,
     "start_time": "2021-06-03T18:50:14.301151",
     "status": "completed"
    },
    "tags": []
   },
   "outputs": [],
   "source": [
    "train_data = pd.read_csv(\"/kaggle/input/titanic/train.csv\")\n",
    "# train_data.head(10)"
   ]
  },
  {
   "cell_type": "markdown",
   "id": "every-generator",
   "metadata": {
    "papermill": {
     "duration": 0.013283,
     "end_time": "2021-06-03T18:50:14.362858",
     "exception": false,
     "start_time": "2021-06-03T18:50:14.349575",
     "status": "completed"
    },
    "tags": []
   },
   "source": [
    "Second we load the test data which we which contains a list of passengers that our model will try to predict\n",
    "who of them survived"
   ]
  },
  {
   "cell_type": "markdown",
   "id": "regulated-scroll",
   "metadata": {
    "papermill": {
     "duration": 0.013315,
     "end_time": "2021-06-03T18:50:14.389910",
     "exception": false,
     "start_time": "2021-06-03T18:50:14.376595",
     "status": "completed"
    },
    "tags": []
   },
   "source": [
    "We can notice that there are some missing values in the Age column"
   ]
  },
  {
   "cell_type": "code",
   "execution_count": 3,
   "id": "unable-monitoring",
   "metadata": {
    "execution": {
     "iopub.execute_input": "2021-06-03T18:50:14.421216Z",
     "iopub.status.busy": "2021-06-03T18:50:14.420562Z",
     "iopub.status.idle": "2021-06-03T18:50:14.481190Z",
     "shell.execute_reply": "2021-06-03T18:50:14.480656Z",
     "shell.execute_reply.started": "2021-06-03T18:40:37.377324Z"
    },
    "papermill": {
     "duration": 0.078019,
     "end_time": "2021-06-03T18:50:14.481324",
     "exception": false,
     "start_time": "2021-06-03T18:50:14.403305",
     "status": "completed"
    },
    "tags": []
   },
   "outputs": [
    {
     "data": {
      "text/html": [
       "<div>\n",
       "<style scoped>\n",
       "    .dataframe tbody tr th:only-of-type {\n",
       "        vertical-align: middle;\n",
       "    }\n",
       "\n",
       "    .dataframe tbody tr th {\n",
       "        vertical-align: top;\n",
       "    }\n",
       "\n",
       "    .dataframe thead th {\n",
       "        text-align: right;\n",
       "    }\n",
       "</style>\n",
       "<table border=\"1\" class=\"dataframe\">\n",
       "  <thead>\n",
       "    <tr style=\"text-align: right;\">\n",
       "      <th></th>\n",
       "      <th>PassengerId</th>\n",
       "      <th>Pclass</th>\n",
       "      <th>Age</th>\n",
       "      <th>SibSp</th>\n",
       "      <th>Parch</th>\n",
       "      <th>Fare</th>\n",
       "    </tr>\n",
       "  </thead>\n",
       "  <tbody>\n",
       "    <tr>\n",
       "      <th>count</th>\n",
       "      <td>418.000000</td>\n",
       "      <td>418.000000</td>\n",
       "      <td>332.000000</td>\n",
       "      <td>418.000000</td>\n",
       "      <td>418.000000</td>\n",
       "      <td>417.000000</td>\n",
       "    </tr>\n",
       "    <tr>\n",
       "      <th>mean</th>\n",
       "      <td>1100.500000</td>\n",
       "      <td>2.265550</td>\n",
       "      <td>30.272590</td>\n",
       "      <td>0.447368</td>\n",
       "      <td>0.392344</td>\n",
       "      <td>35.627188</td>\n",
       "    </tr>\n",
       "    <tr>\n",
       "      <th>std</th>\n",
       "      <td>120.810458</td>\n",
       "      <td>0.841838</td>\n",
       "      <td>14.181209</td>\n",
       "      <td>0.896760</td>\n",
       "      <td>0.981429</td>\n",
       "      <td>55.907576</td>\n",
       "    </tr>\n",
       "    <tr>\n",
       "      <th>min</th>\n",
       "      <td>892.000000</td>\n",
       "      <td>1.000000</td>\n",
       "      <td>0.170000</td>\n",
       "      <td>0.000000</td>\n",
       "      <td>0.000000</td>\n",
       "      <td>0.000000</td>\n",
       "    </tr>\n",
       "    <tr>\n",
       "      <th>25%</th>\n",
       "      <td>996.250000</td>\n",
       "      <td>1.000000</td>\n",
       "      <td>21.000000</td>\n",
       "      <td>0.000000</td>\n",
       "      <td>0.000000</td>\n",
       "      <td>7.895800</td>\n",
       "    </tr>\n",
       "    <tr>\n",
       "      <th>50%</th>\n",
       "      <td>1100.500000</td>\n",
       "      <td>3.000000</td>\n",
       "      <td>27.000000</td>\n",
       "      <td>0.000000</td>\n",
       "      <td>0.000000</td>\n",
       "      <td>14.454200</td>\n",
       "    </tr>\n",
       "    <tr>\n",
       "      <th>75%</th>\n",
       "      <td>1204.750000</td>\n",
       "      <td>3.000000</td>\n",
       "      <td>39.000000</td>\n",
       "      <td>1.000000</td>\n",
       "      <td>0.000000</td>\n",
       "      <td>31.500000</td>\n",
       "    </tr>\n",
       "    <tr>\n",
       "      <th>max</th>\n",
       "      <td>1309.000000</td>\n",
       "      <td>3.000000</td>\n",
       "      <td>76.000000</td>\n",
       "      <td>8.000000</td>\n",
       "      <td>9.000000</td>\n",
       "      <td>512.329200</td>\n",
       "    </tr>\n",
       "  </tbody>\n",
       "</table>\n",
       "</div>"
      ],
      "text/plain": [
       "       PassengerId      Pclass         Age       SibSp       Parch        Fare\n",
       "count   418.000000  418.000000  332.000000  418.000000  418.000000  417.000000\n",
       "mean   1100.500000    2.265550   30.272590    0.447368    0.392344   35.627188\n",
       "std     120.810458    0.841838   14.181209    0.896760    0.981429   55.907576\n",
       "min     892.000000    1.000000    0.170000    0.000000    0.000000    0.000000\n",
       "25%     996.250000    1.000000   21.000000    0.000000    0.000000    7.895800\n",
       "50%    1100.500000    3.000000   27.000000    0.000000    0.000000   14.454200\n",
       "75%    1204.750000    3.000000   39.000000    1.000000    0.000000   31.500000\n",
       "max    1309.000000    3.000000   76.000000    8.000000    9.000000  512.329200"
      ]
     },
     "execution_count": 3,
     "metadata": {},
     "output_type": "execute_result"
    }
   ],
   "source": [
    "test_data = pd.read_csv(\"/kaggle/input/titanic/test.csv\")\n",
    "test_data.describe()"
   ]
  },
  {
   "cell_type": "markdown",
   "id": "micro-technology",
   "metadata": {
    "papermill": {
     "duration": 0.013831,
     "end_time": "2021-06-03T18:50:14.509205",
     "exception": false,
     "start_time": "2021-06-03T18:50:14.495374",
     "status": "completed"
    },
    "tags": []
   },
   "source": [
    "The first preprocessing we will be conducting is handling the missing values in the Age column.\n",
    "Instead of using imputation we will just replace each Nan value with value \"-1\". \n",
    "Putting such an odd value as \"-1\" or \"0\" will let our model notice that there is something wrong with these data. \n"
   ]
  },
  {
   "cell_type": "code",
   "execution_count": 4,
   "id": "swiss-control",
   "metadata": {
    "execution": {
     "iopub.execute_input": "2021-06-03T18:50:14.544001Z",
     "iopub.status.busy": "2021-06-03T18:50:14.543341Z",
     "iopub.status.idle": "2021-06-03T18:50:14.545974Z",
     "shell.execute_reply": "2021-06-03T18:50:14.546456Z",
     "shell.execute_reply.started": "2021-06-03T18:40:37.417986Z"
    },
    "papermill": {
     "duration": 0.023047,
     "end_time": "2021-06-03T18:50:14.546643",
     "exception": false,
     "start_time": "2021-06-03T18:50:14.523596",
     "status": "completed"
    },
    "tags": []
   },
   "outputs": [],
   "source": [
    "train_data.Age=train_data[\"Age\"].fillna(-1)\n",
    "test_data.Age=test_data[\"Age\"].fillna(-1)\n",
    "# train_data.head(10)"
   ]
  },
  {
   "cell_type": "markdown",
   "id": "substantial-discipline",
   "metadata": {
    "papermill": {
     "duration": 0.013425,
     "end_time": "2021-06-03T18:50:14.574071",
     "exception": false,
     "start_time": "2021-06-03T18:50:14.560646",
     "status": "completed"
    },
    "tags": []
   },
   "source": [
    "Now another feature that will be helpful is the Sex feature. \n",
    "The problem is that our model only understand numeric values.\n",
    "To address this issue we should convert the text into a corresponding numeric value, that's where LabelEncoder is used for.\n",
    "\"Sex\" column hold categorial values (male and female), so what does LabelEncoder do is that it assigns for each unique element a unique number.  "
   ]
  },
  {
   "cell_type": "markdown",
   "id": "endangered-class",
   "metadata": {
    "papermill": {
     "duration": 0.013457,
     "end_time": "2021-06-03T18:50:14.601366",
     "exception": false,
     "start_time": "2021-06-03T18:50:14.587909",
     "status": "completed"
    },
    "tags": []
   },
   "source": [
    "From the output we can notice that male is represented as \"1\" and female as \"0\""
   ]
  },
  {
   "cell_type": "code",
   "execution_count": 5,
   "id": "cognitive-quick",
   "metadata": {
    "execution": {
     "iopub.execute_input": "2021-06-03T18:50:14.632231Z",
     "iopub.status.busy": "2021-06-03T18:50:14.631622Z",
     "iopub.status.idle": "2021-06-03T18:50:15.624577Z",
     "shell.execute_reply": "2021-06-03T18:50:15.623999Z",
     "shell.execute_reply.started": "2021-06-03T18:40:37.426443Z"
    },
    "papermill": {
     "duration": 1.009507,
     "end_time": "2021-06-03T18:50:15.624729",
     "exception": false,
     "start_time": "2021-06-03T18:50:14.615222",
     "status": "completed"
    },
    "tags": []
   },
   "outputs": [
    {
     "data": {
      "text/html": [
       "<div>\n",
       "<style scoped>\n",
       "    .dataframe tbody tr th:only-of-type {\n",
       "        vertical-align: middle;\n",
       "    }\n",
       "\n",
       "    .dataframe tbody tr th {\n",
       "        vertical-align: top;\n",
       "    }\n",
       "\n",
       "    .dataframe thead th {\n",
       "        text-align: right;\n",
       "    }\n",
       "</style>\n",
       "<table border=\"1\" class=\"dataframe\">\n",
       "  <thead>\n",
       "    <tr style=\"text-align: right;\">\n",
       "      <th></th>\n",
       "      <th>PassengerId</th>\n",
       "      <th>Survived</th>\n",
       "      <th>Pclass</th>\n",
       "      <th>Name</th>\n",
       "      <th>Sex</th>\n",
       "      <th>Age</th>\n",
       "      <th>SibSp</th>\n",
       "      <th>Parch</th>\n",
       "      <th>Ticket</th>\n",
       "      <th>Fare</th>\n",
       "      <th>Cabin</th>\n",
       "      <th>Embarked</th>\n",
       "    </tr>\n",
       "  </thead>\n",
       "  <tbody>\n",
       "    <tr>\n",
       "      <th>0</th>\n",
       "      <td>1</td>\n",
       "      <td>0</td>\n",
       "      <td>3</td>\n",
       "      <td>Braund, Mr. Owen Harris</td>\n",
       "      <td>1</td>\n",
       "      <td>22.0</td>\n",
       "      <td>1</td>\n",
       "      <td>0</td>\n",
       "      <td>A/5 21171</td>\n",
       "      <td>7.2500</td>\n",
       "      <td>NaN</td>\n",
       "      <td>S</td>\n",
       "    </tr>\n",
       "    <tr>\n",
       "      <th>1</th>\n",
       "      <td>2</td>\n",
       "      <td>1</td>\n",
       "      <td>1</td>\n",
       "      <td>Cumings, Mrs. John Bradley (Florence Briggs Th...</td>\n",
       "      <td>0</td>\n",
       "      <td>38.0</td>\n",
       "      <td>1</td>\n",
       "      <td>0</td>\n",
       "      <td>PC 17599</td>\n",
       "      <td>71.2833</td>\n",
       "      <td>C85</td>\n",
       "      <td>C</td>\n",
       "    </tr>\n",
       "    <tr>\n",
       "      <th>2</th>\n",
       "      <td>3</td>\n",
       "      <td>1</td>\n",
       "      <td>3</td>\n",
       "      <td>Heikkinen, Miss. Laina</td>\n",
       "      <td>0</td>\n",
       "      <td>26.0</td>\n",
       "      <td>0</td>\n",
       "      <td>0</td>\n",
       "      <td>STON/O2. 3101282</td>\n",
       "      <td>7.9250</td>\n",
       "      <td>NaN</td>\n",
       "      <td>S</td>\n",
       "    </tr>\n",
       "    <tr>\n",
       "      <th>3</th>\n",
       "      <td>4</td>\n",
       "      <td>1</td>\n",
       "      <td>1</td>\n",
       "      <td>Futrelle, Mrs. Jacques Heath (Lily May Peel)</td>\n",
       "      <td>0</td>\n",
       "      <td>35.0</td>\n",
       "      <td>1</td>\n",
       "      <td>0</td>\n",
       "      <td>113803</td>\n",
       "      <td>53.1000</td>\n",
       "      <td>C123</td>\n",
       "      <td>S</td>\n",
       "    </tr>\n",
       "    <tr>\n",
       "      <th>4</th>\n",
       "      <td>5</td>\n",
       "      <td>0</td>\n",
       "      <td>3</td>\n",
       "      <td>Allen, Mr. William Henry</td>\n",
       "      <td>1</td>\n",
       "      <td>35.0</td>\n",
       "      <td>0</td>\n",
       "      <td>0</td>\n",
       "      <td>373450</td>\n",
       "      <td>8.0500</td>\n",
       "      <td>NaN</td>\n",
       "      <td>S</td>\n",
       "    </tr>\n",
       "  </tbody>\n",
       "</table>\n",
       "</div>"
      ],
      "text/plain": [
       "   PassengerId  Survived  Pclass  \\\n",
       "0            1         0       3   \n",
       "1            2         1       1   \n",
       "2            3         1       3   \n",
       "3            4         1       1   \n",
       "4            5         0       3   \n",
       "\n",
       "                                                Name  Sex   Age  SibSp  Parch  \\\n",
       "0                            Braund, Mr. Owen Harris    1  22.0      1      0   \n",
       "1  Cumings, Mrs. John Bradley (Florence Briggs Th...    0  38.0      1      0   \n",
       "2                             Heikkinen, Miss. Laina    0  26.0      0      0   \n",
       "3       Futrelle, Mrs. Jacques Heath (Lily May Peel)    0  35.0      1      0   \n",
       "4                           Allen, Mr. William Henry    1  35.0      0      0   \n",
       "\n",
       "             Ticket     Fare Cabin Embarked  \n",
       "0         A/5 21171   7.2500   NaN        S  \n",
       "1          PC 17599  71.2833   C85        C  \n",
       "2  STON/O2. 3101282   7.9250   NaN        S  \n",
       "3            113803  53.1000  C123        S  \n",
       "4            373450   8.0500   NaN        S  "
      ]
     },
     "execution_count": 5,
     "metadata": {},
     "output_type": "execute_result"
    }
   ],
   "source": [
    "from sklearn.preprocessing import LabelEncoder\n",
    "\n",
    "\n",
    "labeled_train_data= train_data.copy()\n",
    "labeled_test_data=test_data.copy()\n",
    "\n",
    "label_encoder=LabelEncoder()\n",
    "labeled_train_data[\"Sex\"]=pd.DataFrame(label_encoder.fit_transform(train_data[\"Sex\"]))\n",
    "labeled_test_data[\"Sex\"]=pd.DataFrame(label_encoder.fit_transform(test_data[\"Sex\"]))\n",
    "labeled_train_data.head()"
   ]
  },
  {
   "cell_type": "markdown",
   "id": "living-workstation",
   "metadata": {
    "papermill": {
     "duration": 0.014329,
     "end_time": "2021-06-03T18:50:15.653681",
     "exception": false,
     "start_time": "2021-06-03T18:50:15.639352",
     "status": "completed"
    },
    "tags": []
   },
   "source": [
    "Now its time to find the best modeling which will give the most accurate result. \n",
    "Firstly we need to drop all columns with any values other than numeric.\n",
    "Secondly, we specify our desired output which in our case is the Surviving status of the passengers.\n",
    "Thirdly, we specify the features that we which to train our model with, in other words, the basis on which our model will\n",
    "make its prediction through identifying common patterns in these features.\n",
    "now we need to split the data so that the train data is not the same as the data our model will predict\n"
   ]
  },
  {
   "cell_type": "code",
   "execution_count": 6,
   "id": "excessive-lotus",
   "metadata": {
    "execution": {
     "iopub.execute_input": "2021-06-03T18:50:15.688899Z",
     "iopub.status.busy": "2021-06-03T18:50:15.688228Z",
     "iopub.status.idle": "2021-06-03T18:50:15.756273Z",
     "shell.execute_reply": "2021-06-03T18:50:15.755723Z",
     "shell.execute_reply.started": "2021-06-03T18:40:37.457832Z"
    },
    "papermill": {
     "duration": 0.088078,
     "end_time": "2021-06-03T18:50:15.756442",
     "exception": false,
     "start_time": "2021-06-03T18:50:15.668364",
     "status": "completed"
    },
    "tags": []
   },
   "outputs": [],
   "source": [
    "from sklearn.model_selection import train_test_split\n",
    "\n",
    "train_data_raw= labeled_train_data.select_dtypes(exclude=['object'])\n",
    "# train_data_raw.head()\n",
    "y=train_data_raw.Survived\n",
    "columns=[\"Pclass\", \"Age\", \"Parch\",\"Sex\"]\n",
    "x= train_data_raw[columns]\n",
    "x.head()\n",
    "xtrain, xvalid, ytrain, yvalid = train_test_split (x, y, random_state = 0)\n"
   ]
  },
  {
   "cell_type": "markdown",
   "id": "unusual-unemployment",
   "metadata": {
    "papermill": {
     "duration": 0.013859,
     "end_time": "2021-06-03T18:50:15.784859",
     "exception": false,
     "start_time": "2021-06-03T18:50:15.771000",
     "status": "completed"
    },
    "tags": []
   },
   "source": [
    "We will use the mean_absolute_error as a method of validation for the accuracy of our model. \n",
    "The model which will give the smalled mean_absolute_error will be our selected model."
   ]
  },
  {
   "cell_type": "code",
   "execution_count": 7,
   "id": "indie-metro",
   "metadata": {
    "execution": {
     "iopub.execute_input": "2021-06-03T18:50:15.819354Z",
     "iopub.status.busy": "2021-06-03T18:50:15.818734Z",
     "iopub.status.idle": "2021-06-03T18:50:16.062287Z",
     "shell.execute_reply": "2021-06-03T18:50:16.061578Z",
     "shell.execute_reply.started": "2021-06-03T18:40:37.475420Z"
    },
    "papermill": {
     "duration": 0.263249,
     "end_time": "2021-06-03T18:50:16.062450",
     "exception": false,
     "start_time": "2021-06-03T18:50:15.799201",
     "status": "completed"
    },
    "tags": []
   },
   "outputs": [],
   "source": [
    "from sklearn.metrics import mean_absolute_error\n",
    "from sklearn.tree import DecisionTreeClassifier\n",
    "from sklearn.ensemble import RandomForestClassifier\n",
    "from sklearn.linear_model import LogisticRegression\n",
    "\n",
    "def getmean(maxnum,xtrain,xvalid,ytrain,yvalid):\n",
    "#     model = RandomForestClassifier(n_estimators=maxnum, max_leaf_nodes=maxnum, random_state=1)\n",
    "#     model = DecisionTreeClassifier(max_leaf_nodes=maxnum, max_depth=maxnum, random_state=1)\n",
    "    model = LogisticRegression()\n",
    "    model.fit(xtrain,ytrain)\n",
    "    predict= model.predict(xvalid)\n",
    "    mean= mean_absolute_error(yvalid,predict)\n",
    "    return mean\n",
    "#RandomForestClassifier gives: 0.1928\n",
    "#DecisionTreeClassifier gives: 0.1748 "
   ]
  },
  {
   "cell_type": "code",
   "execution_count": 8,
   "id": "piano-federal",
   "metadata": {
    "execution": {
     "iopub.execute_input": "2021-06-03T18:50:16.099563Z",
     "iopub.status.busy": "2021-06-03T18:50:16.098872Z",
     "iopub.status.idle": "2021-06-03T18:50:16.483949Z",
     "shell.execute_reply": "2021-06-03T18:50:16.482819Z",
     "shell.execute_reply.started": "2021-06-03T18:43:11.763854Z"
    },
    "papermill": {
     "duration": 0.407009,
     "end_time": "2021-06-03T18:50:16.484148",
     "exception": false,
     "start_time": "2021-06-03T18:50:16.077139",
     "status": "completed"
    },
    "tags": []
   },
   "outputs": [
    {
     "name": "stdout",
     "output_type": "stream",
     "text": [
      " Maxnum= 50   respective absolute error: 0.2062780269058296\n",
      " Maxnum= 100   respective absolute error: 0.2062780269058296\n",
      " Maxnum= 150   respective absolute error: 0.2062780269058296\n",
      " Maxnum= 200   respective absolute error: 0.2062780269058296\n",
      " Maxnum= 250   respective absolute error: 0.2062780269058296\n",
      " Maxnum= 300   respective absolute error: 0.2062780269058296\n",
      " Maxnum= 350   respective absolute error: 0.2062780269058296\n",
      " Maxnum= 400   respective absolute error: 0.2062780269058296\n",
      " Maxnum= 450   respective absolute error: 0.2062780269058296\n",
      " Maxnum= 500   respective absolute error: 0.2062780269058296\n",
      " Maxnum= 550   respective absolute error: 0.2062780269058296\n",
      " Maxnum= 600   respective absolute error: 0.2062780269058296\n",
      " Maxnum= 650   respective absolute error: 0.2062780269058296\n",
      " Maxnum= 700   respective absolute error: 0.2062780269058296\n",
      " Maxnum= 750   respective absolute error: 0.2062780269058296\n",
      " Maxnum= 800   respective absolute error: 0.2062780269058296\n",
      " Maxnum= 850   respective absolute error: 0.2062780269058296\n",
      " Maxnum= 900   respective absolute error: 0.2062780269058296\n",
      " Maxnum= 950   respective absolute error: 0.2062780269058296\n"
     ]
    }
   ],
   "source": [
    "for maxnum in range(50,1000,50):\n",
    "    mymean=getmean(maxnum,xtrain,xvalid,ytrain,yvalid)\n",
    "    print(f' Maxnum= {maxnum}   respective absolute error: {mymean}')"
   ]
  },
  {
   "cell_type": "markdown",
   "id": "described-terrace",
   "metadata": {
    "papermill": {
     "duration": 0.015104,
     "end_time": "2021-06-03T18:50:16.514464",
     "exception": false,
     "start_time": "2021-06-03T18:50:16.499360",
     "status": "completed"
    },
    "tags": []
   },
   "source": [
    "After testing these three models, the Logistic Regression gave best results so that's the model we will be using"
   ]
  },
  {
   "cell_type": "markdown",
   "id": "missing-rates",
   "metadata": {
    "papermill": {
     "duration": 0.015124,
     "end_time": "2021-06-03T18:50:16.544981",
     "exception": false,
     "start_time": "2021-06-03T18:50:16.529857",
     "status": "completed"
    },
    "tags": []
   },
   "source": [
    "So now to our final step, we will work on the test data this time and get our desired results and save it "
   ]
  },
  {
   "cell_type": "code",
   "execution_count": 9,
   "id": "conceptual-parcel",
   "metadata": {
    "execution": {
     "iopub.execute_input": "2021-06-03T18:50:16.586934Z",
     "iopub.status.busy": "2021-06-03T18:50:16.584446Z",
     "iopub.status.idle": "2021-06-03T18:50:16.614494Z",
     "shell.execute_reply": "2021-06-03T18:50:16.613894Z",
     "shell.execute_reply.started": "2021-06-03T18:40:58.636697Z"
    },
    "papermill": {
     "duration": 0.05428,
     "end_time": "2021-06-03T18:50:16.614645",
     "exception": false,
     "start_time": "2021-06-03T18:50:16.560365",
     "status": "completed"
    },
    "tags": []
   },
   "outputs": [
    {
     "name": "stdout",
     "output_type": "stream",
     "text": [
      "Submission was successfully saved!\n"
     ]
    }
   ],
   "source": [
    "\n",
    "y=labeled_train_data.Survived\n",
    "\n",
    "features = [\"Pclass\", \"Age\", \"Parch\",\"Sex\"]\n",
    "X =labeled_train_data[features]\n",
    "X_test = labeled_test_data[features]\n",
    "\n",
    "model = LogisticRegression()\n",
    "\n",
    "model.fit(X, y)\n",
    "predictions = model.predict(X_test)\n",
    "\n",
    "output = pd.DataFrame({'PassengerId': test_data.PassengerId, 'Survived': predictions})\n",
    "output.head(20)\n",
    "output.to_csv('my_submission.csv', index=False)\n",
    "print(\"Submission was successfully saved!\")"
   ]
  }
 ],
 "metadata": {
  "kernelspec": {
   "display_name": "Python 3",
   "language": "python",
   "name": "python3"
  },
  "language_info": {
   "codemirror_mode": {
    "name": "ipython",
    "version": 3
   },
   "file_extension": ".py",
   "mimetype": "text/x-python",
   "name": "python",
   "nbconvert_exporter": "python",
   "pygments_lexer": "ipython3",
   "version": "3.7.10"
  },
  "papermill": {
   "default_parameters": {},
   "duration": 11.83123,
   "end_time": "2021-06-03T18:50:18.013684",
   "environment_variables": {},
   "exception": null,
   "input_path": "__notebook__.ipynb",
   "output_path": "__notebook__.ipynb",
   "parameters": {},
   "start_time": "2021-06-03T18:50:06.182454",
   "version": "2.3.3"
  }
 },
 "nbformat": 4,
 "nbformat_minor": 5
}
